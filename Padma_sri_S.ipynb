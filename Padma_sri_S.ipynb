{
  "nbformat": 4,
  "nbformat_minor": 0,
  "metadata": {
    "colab": {
      "provenance": [],
      "authorship_tag": "ABX9TyOeu+M6iZ6b+erh3DqmgzAo",
      "include_colab_link": true
    },
    "kernelspec": {
      "name": "python3",
      "display_name": "Python 3"
    },
    "language_info": {
      "name": "python"
    }
  },
  "cells": [
    {
      "cell_type": "markdown",
      "metadata": {
        "id": "view-in-github",
        "colab_type": "text"
      },
      "source": [
        "<a href=\"https://colab.research.google.com/github/41140059/task/blob/main/Padma_sri_S.ipynb\" target=\"_parent\"><img src=\"https://colab.research.google.com/assets/colab-badge.svg\" alt=\"Open In Colab\"/></a>"
      ]
    },
    {
      "cell_type": "code",
      "execution_count": null,
      "metadata": {
        "id": "TQakKby3_JvH"
      },
      "outputs": [],
      "source": []
    },
    {
      "cell_type": "code",
      "source": [
        "import pandas as pd\n",
        "import numpy as np\n",
        "import seaborn as sns\n",
        "import time\n",
        "\n",
        "from sklearn.model_selection import train_test_split\n",
        "from sklearn.preprocessing import MinMaxScaler\n",
        "from sklearn.preprocessing import StandardScaler\n",
        "import matplotlib.pyplot as plt\n",
        "from sklearn.cluster import KMeans\n",
        "from sklearn.neighbors import KNeighborsClassifier\n",
        "from sklearn.model_selection import train_test_split, GridSearchCV\n",
        "from sklearn.preprocessing import StandardScaler\n",
        "from sklearn.metrics import accuracy_score, precision_score, recall_score, f1_score\n",
        "\n",
        "\n",
        "import os\n",
        "for dirname, _, filenames in os.walk('/kaggle/input'):\n",
        "    for filename in filenames:\n",
        "        print(os.path.join(dirname, filename))"
      ],
      "metadata": {
        "id": "c4QOTz7U_ZZR"
      },
      "execution_count": null,
      "outputs": []
    },
    {
      "cell_type": "markdown",
      "source": [
        "data processing\n"
      ],
      "metadata": {
        "id": "Ngjmhb_G_vCI"
      }
    },
    {
      "cell_type": "code",
      "source": [
        "df = pd.read_csv('/kaggle/input/weather-prediction/seattle-weather.csv')\n",
        "df.head()"
      ],
      "metadata": {
        "id": "uxglCJZX_2Zg"
      },
      "execution_count": null,
      "outputs": []
    },
    {
      "cell_type": "code",
      "source": [
        "df.drop(columns=['date'], inplace=True)"
      ],
      "metadata": {
        "id": "MEGlew2K_9bz"
      },
      "execution_count": null,
      "outputs": []
    },
    {
      "cell_type": "code",
      "source": [
        "df.isnull().sum()"
      ],
      "metadata": {
        "id": "hIlAdG4uAA00"
      },
      "execution_count": null,
      "outputs": []
    },
    {
      "cell_type": "code",
      "source": [
        "df[df.duplicated()]"
      ],
      "metadata": {
        "id": "CBHwoo52AGDO"
      },
      "execution_count": null,
      "outputs": []
    },
    {
      "cell_type": "code",
      "source": [
        "df.head(10)"
      ],
      "metadata": {
        "id": "4dMVSnY7AHG2"
      },
      "execution_count": null,
      "outputs": []
    },
    {
      "cell_type": "code",
      "source": [
        "# Define a mapping dictionary\n",
        "mapping = {'drizzle': 0, 'fog': 1, 'rain': 2, 'snow': 3, 'sun': 4}\n",
        "\n",
        "# Apply the mapping to the 'Category' column\n",
        "df['weather'] = df['weather'].map(mapping)\n",
        "print(df)"
      ],
      "metadata": {
        "id": "msonYiRPAKbm"
      },
      "execution_count": null,
      "outputs": []
    },
    {
      "cell_type": "markdown",
      "source": [
        "cleaning outliers"
      ],
      "metadata": {
        "id": "JMJAs2YZAPk2"
      }
    },
    {
      "cell_type": "code",
      "source": [
        "column = ['precipitation','temp_max','temp_min', 'wind']\n",
        "df[column].describe()"
      ],
      "metadata": {
        "id": "xMmfqAZRAVtJ"
      },
      "execution_count": null,
      "outputs": []
    },
    {
      "cell_type": "code",
      "source": [
        "for cols in column:\n",
        "  sns.boxplot(x=df[cols])\n",
        "  plt.show()"
      ],
      "metadata": {
        "id": "0QaNqqnIANHu"
      },
      "execution_count": null,
      "outputs": []
    },
    {
      "cell_type": "markdown",
      "source": [
        "k means clustering(elbow method)"
      ],
      "metadata": {
        "id": "_Z6SUKHYAgoJ"
      }
    },
    {
      "cell_type": "code",
      "source": [
        "inertias = []\n",
        "for i in range(1, 11):\n",
        "    kmeans = KMeans(n_clusters=i, random_state=42,  n_init=10)\n",
        "    kmeans.fit(df)\n",
        "    inertias.append(kmeans.inertia_)\n",
        "\n",
        "plt.figure(figsize=(8, 6))\n",
        "plt.plot(range(1, 11), inertias, marker='o')\n",
        "plt.xlabel('Cluster')\n",
        "plt.ylabel('Inersia')\n",
        "plt.title('Elbow Method')\n",
        "plt.show()"
      ],
      "metadata": {
        "id": "3R894GZbAn6j"
      },
      "execution_count": null,
      "outputs": []
    },
    {
      "cell_type": "code",
      "source": [
        "scaler = StandardScaler()\n",
        "scaled_features = scaler.fit_transform(df)\n",
        "\n",
        "n_clusters = 5\n",
        "\n",
        "kmeans = KMeans(n_clusters=n_clusters, random_state=42,  n_init=10)\n",
        "df['cluster'] = kmeans.fit_predict(scaled_features)\n",
        "\n",
        "df.to_csv('data_baru.csv', index=False)"
      ],
      "metadata": {
        "id": "f3y926fqAee5"
      },
      "execution_count": null,
      "outputs": []
    },
    {
      "cell_type": "code",
      "source": [
        "df_clean = pd.read_csv(\"data_baru.csv\")\n",
        "df_clean.head(100)"
      ],
      "metadata": {
        "id": "LzUiiiMHAuyT"
      },
      "execution_count": null,
      "outputs": []
    },
    {
      "cell_type": "markdown",
      "source": [
        "split database"
      ],
      "metadata": {
        "id": "3gWiQjs_AzgM"
      }
    },
    {
      "cell_type": "code",
      "source": [
        "X = df.drop(['cluster'], axis=1)\n",
        "y = df['cluster']"
      ],
      "metadata": {
        "id": "knkjM66ZAxjM"
      },
      "execution_count": null,
      "outputs": []
    },
    {
      "cell_type": "code",
      "source": [
        "X_train, X_test, y_train, y_test = train_test_split(X, y, test_size = 0.3, random_state = 42)"
      ],
      "metadata": {
        "id": "kua2ijmMA4Wd"
      },
      "execution_count": null,
      "outputs": []
    },
    {
      "cell_type": "markdown",
      "source": [
        "model development\n"
      ],
      "metadata": {
        "id": "jIiD-LA4A85d"
      }
    },
    {
      "cell_type": "code",
      "source": [
        "start_time = time.time()"
      ],
      "metadata": {
        "id": "R1BBpnhlA_xM"
      },
      "execution_count": null,
      "outputs": []
    },
    {
      "cell_type": "code",
      "source": [
        "knn = KNeighborsClassifier()\n",
        "\n",
        "param_grid = {'n_neighbors': [3, 5, 7, 9], 'weights': ['uniform', 'distance'], 'metric': ['euclidean', 'manhattan']}\n",
        "grid_search = GridSearchCV(knn, param_grid, cv=4)\n",
        "grid_search.fit(X_train, y_train)\n",
        "\n",
        "print(\"Best Parameter\", grid_search.best_params_)\n",
        "\n",
        "best_knn = grid_search.best_estimator_\n",
        "\n",
        "best_knn.fit(X_train, y_train)\n",
        "y_pred = best_knn.predict(X_test)"
      ],
      "metadata": {
        "id": "paMBE_slBCrt"
      },
      "execution_count": null,
      "outputs": []
    },
    {
      "cell_type": "markdown",
      "source": [
        "result"
      ],
      "metadata": {
        "id": "X3RSyvTYBIoV"
      }
    },
    {
      "cell_type": "code",
      "source": [
        "accuracy = accuracy_score(y_test, y_pred)\n",
        "print(\"Accuracy:\", accuracy)\n",
        "\n",
        "precision = precision_score(y_test, y_pred, average='weighted')\n",
        "print(\"Precicion:\", precision)\n",
        "\n",
        "recall = recall_score(y_test, y_pred, average='weighted')\n",
        "print(\"Recall:\", recall)\n",
        "\n",
        "f1 = f1_score(y_test, y_pred, average='weighted')\n",
        "print(\"F1 Score:\", f1)"
      ],
      "metadata": {
        "id": "0B_3WwEXBKXs"
      },
      "execution_count": null,
      "outputs": []
    },
    {
      "cell_type": "code",
      "source": [
        "end_time = time.time()\n",
        "\n",
        "process_time = end_time - start_time\n",
        "\n",
        "print(f\"Time run: {process_time} second\")"
      ],
      "metadata": {
        "id": "DRBpvtK4BNdc"
      },
      "execution_count": null,
      "outputs": []
    },
    {
      "cell_type": "markdown",
      "source": [
        "Conclusion: The KNN-based weather prediction model achieved high accuracy, demonstrating the algorithm's effectiveness for this task. Future work includes exploring more advanced models like Random Forest and Gradient Boosting to further improve prediction accuracy."
      ],
      "metadata": {
        "id": "c0GI7hJeBT1F"
      }
    }
  ]
}